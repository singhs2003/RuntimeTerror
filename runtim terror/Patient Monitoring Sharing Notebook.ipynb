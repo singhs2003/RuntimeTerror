{
 "cells": [
  {
   "cell_type": "code",
   "execution_count": 3,
   "id": "9bedb642",
   "metadata": {},
   "outputs": [],
   "source": [
    "import pandas as pd"
   ]
  },
  {
   "cell_type": "code",
   "execution_count": 4,
   "id": "6d08e4cb",
   "metadata": {},
   "outputs": [],
   "source": [
    "import numpy as np"
   ]
  },
  {
   "cell_type": "code",
   "execution_count": 5,
   "id": "41590e7b",
   "metadata": {},
   "outputs": [],
   "source": [
    "data=pd.read_excel('dataset.xlsx')"
   ]
  },
  {
   "cell_type": "code",
   "execution_count": 6,
   "id": "3ce4e9dc",
   "metadata": {},
   "outputs": [
    {
     "data": {
      "text/plain": [
       "(1177, 10)"
      ]
     },
     "execution_count": 6,
     "metadata": {},
     "output_type": "execute_result"
    }
   ],
   "source": [
    "data.shape"
   ]
  },
  {
   "cell_type": "code",
   "execution_count": 7,
   "id": "4f757b35",
   "metadata": {},
   "outputs": [
    {
     "data": {
      "text/plain": [
       "heart rate                    13\n",
       "Pulse                       1021\n",
       "temperature                   19\n",
       "Systolic blood pressure       16\n",
       "Diastolic blood pressure      16\n",
       "Respiratory rate              13\n",
       "SP O2                         13\n",
       "PH                           292\n",
       "PCO2                         294\n",
       "outcome                        1\n",
       "dtype: int64"
      ]
     },
     "execution_count": 7,
     "metadata": {},
     "output_type": "execute_result"
    }
   ],
   "source": [
    "data.isnull().sum()"
   ]
  },
  {
   "cell_type": "code",
   "execution_count": 8,
   "id": "ce9c9af0",
   "metadata": {},
   "outputs": [
    {
     "data": {
      "text/html": [
       "<div>\n",
       "<style scoped>\n",
       "    .dataframe tbody tr th:only-of-type {\n",
       "        vertical-align: middle;\n",
       "    }\n",
       "\n",
       "    .dataframe tbody tr th {\n",
       "        vertical-align: top;\n",
       "    }\n",
       "\n",
       "    .dataframe thead th {\n",
       "        text-align: right;\n",
       "    }\n",
       "</style>\n",
       "<table border=\"1\" class=\"dataframe\">\n",
       "  <thead>\n",
       "    <tr style=\"text-align: right;\">\n",
       "      <th></th>\n",
       "      <th>heart rate</th>\n",
       "      <th>Pulse</th>\n",
       "      <th>temperature</th>\n",
       "      <th>Systolic blood pressure</th>\n",
       "      <th>Diastolic blood pressure</th>\n",
       "      <th>Respiratory rate</th>\n",
       "      <th>SP O2</th>\n",
       "      <th>PH</th>\n",
       "      <th>PCO2</th>\n",
       "      <th>outcome</th>\n",
       "    </tr>\n",
       "  </thead>\n",
       "  <tbody>\n",
       "    <tr>\n",
       "      <th>count</th>\n",
       "      <td>1164.000000</td>\n",
       "      <td>156.000000</td>\n",
       "      <td>1158.000000</td>\n",
       "      <td>1161.000000</td>\n",
       "      <td>1161.000000</td>\n",
       "      <td>1164.000000</td>\n",
       "      <td>1164.000000</td>\n",
       "      <td>885.000000</td>\n",
       "      <td>883.000000</td>\n",
       "      <td>1176.000000</td>\n",
       "    </tr>\n",
       "    <tr>\n",
       "      <th>mean</th>\n",
       "      <td>84.575848</td>\n",
       "      <td>2766.737179</td>\n",
       "      <td>36.677286</td>\n",
       "      <td>117.995035</td>\n",
       "      <td>59.534497</td>\n",
       "      <td>20.801511</td>\n",
       "      <td>96.272900</td>\n",
       "      <td>7.378532</td>\n",
       "      <td>45.535382</td>\n",
       "      <td>0.135204</td>\n",
       "    </tr>\n",
       "    <tr>\n",
       "      <th>std</th>\n",
       "      <td>16.018701</td>\n",
       "      <td>1043.937102</td>\n",
       "      <td>0.607558</td>\n",
       "      <td>17.367618</td>\n",
       "      <td>10.684681</td>\n",
       "      <td>4.002987</td>\n",
       "      <td>2.298002</td>\n",
       "      <td>0.067320</td>\n",
       "      <td>12.711271</td>\n",
       "      <td>0.342087</td>\n",
       "    </tr>\n",
       "    <tr>\n",
       "      <th>min</th>\n",
       "      <td>36.000000</td>\n",
       "      <td>0.000000</td>\n",
       "      <td>33.250000</td>\n",
       "      <td>75.000000</td>\n",
       "      <td>24.736842</td>\n",
       "      <td>11.137931</td>\n",
       "      <td>75.916667</td>\n",
       "      <td>7.090000</td>\n",
       "      <td>18.750000</td>\n",
       "      <td>0.000000</td>\n",
       "    </tr>\n",
       "    <tr>\n",
       "      <th>25%</th>\n",
       "      <td>72.371250</td>\n",
       "      <td>2285.500000</td>\n",
       "      <td>36.286045</td>\n",
       "      <td>105.391304</td>\n",
       "      <td>52.173913</td>\n",
       "      <td>17.925694</td>\n",
       "      <td>95.000000</td>\n",
       "      <td>7.334615</td>\n",
       "      <td>37.038462</td>\n",
       "      <td>0.000000</td>\n",
       "    </tr>\n",
       "    <tr>\n",
       "      <th>50%</th>\n",
       "      <td>83.610799</td>\n",
       "      <td>2794.500000</td>\n",
       "      <td>36.650794</td>\n",
       "      <td>116.128205</td>\n",
       "      <td>58.461538</td>\n",
       "      <td>20.372308</td>\n",
       "      <td>96.452273</td>\n",
       "      <td>7.380000</td>\n",
       "      <td>43.000000</td>\n",
       "      <td>0.000000</td>\n",
       "    </tr>\n",
       "    <tr>\n",
       "      <th>75%</th>\n",
       "      <td>95.907143</td>\n",
       "      <td>3677.500000</td>\n",
       "      <td>37.021991</td>\n",
       "      <td>128.625000</td>\n",
       "      <td>65.464286</td>\n",
       "      <td>23.391200</td>\n",
       "      <td>97.917500</td>\n",
       "      <td>7.430000</td>\n",
       "      <td>50.585784</td>\n",
       "      <td>0.000000</td>\n",
       "    </tr>\n",
       "    <tr>\n",
       "      <th>max</th>\n",
       "      <td>135.708333</td>\n",
       "      <td>4095.000000</td>\n",
       "      <td>39.132478</td>\n",
       "      <td>203.000000</td>\n",
       "      <td>107.000000</td>\n",
       "      <td>40.900000</td>\n",
       "      <td>100.000000</td>\n",
       "      <td>7.580000</td>\n",
       "      <td>98.600000</td>\n",
       "      <td>1.000000</td>\n",
       "    </tr>\n",
       "  </tbody>\n",
       "</table>\n",
       "</div>"
      ],
      "text/plain": [
       "        heart rate        Pulse  temperature  Systolic blood pressure  \\\n",
       "count  1164.000000   156.000000  1158.000000              1161.000000   \n",
       "mean     84.575848  2766.737179    36.677286               117.995035   \n",
       "std      16.018701  1043.937102     0.607558                17.367618   \n",
       "min      36.000000     0.000000    33.250000                75.000000   \n",
       "25%      72.371250  2285.500000    36.286045               105.391304   \n",
       "50%      83.610799  2794.500000    36.650794               116.128205   \n",
       "75%      95.907143  3677.500000    37.021991               128.625000   \n",
       "max     135.708333  4095.000000    39.132478               203.000000   \n",
       "\n",
       "       Diastolic blood pressure  Respiratory rate        SP O2          PH  \\\n",
       "count               1161.000000       1164.000000  1164.000000  885.000000   \n",
       "mean                  59.534497         20.801511    96.272900    7.378532   \n",
       "std                   10.684681          4.002987     2.298002    0.067320   \n",
       "min                   24.736842         11.137931    75.916667    7.090000   \n",
       "25%                   52.173913         17.925694    95.000000    7.334615   \n",
       "50%                   58.461538         20.372308    96.452273    7.380000   \n",
       "75%                   65.464286         23.391200    97.917500    7.430000   \n",
       "max                  107.000000         40.900000   100.000000    7.580000   \n",
       "\n",
       "             PCO2      outcome  \n",
       "count  883.000000  1176.000000  \n",
       "mean    45.535382     0.135204  \n",
       "std     12.711271     0.342087  \n",
       "min     18.750000     0.000000  \n",
       "25%     37.038462     0.000000  \n",
       "50%     43.000000     0.000000  \n",
       "75%     50.585784     0.000000  \n",
       "max     98.600000     1.000000  "
      ]
     },
     "execution_count": 8,
     "metadata": {},
     "output_type": "execute_result"
    }
   ],
   "source": [
    "data.describe()"
   ]
  },
  {
   "cell_type": "code",
   "execution_count": 9,
   "id": "6404803f",
   "metadata": {},
   "outputs": [],
   "source": [
    "data['heart rate']=data['heart rate'].fillna(data['heart rate'].mean()) #fillna() method replaces the NULL values with a specified value.\n",
    "data['Pulse']=data['Pulse'].fillna(data['Pulse'].mean())\n",
    "data['temperature']=data['temperature'].fillna(data['temperature'].mean())\n",
    "data['Systolic blood pressure']=data['Systolic blood pressure'].fillna(data['Systolic blood pressure'].mean())\n",
    "data['Diastolic blood pressure']=data['Diastolic blood pressure'].fillna(data['Diastolic blood pressure'].mean())\n",
    "data['Respiratory rate']=data['Respiratory rate'].fillna(data['Respiratory rate'].mean())\n",
    "data['SP O2']=data['SP O2'].fillna(data['SP O2'].mean())\n",
    "data['PH']=data['PH'].fillna(data['PH'].mean())\n",
    "data['PCO2']=data['PCO2'].fillna(data['PCO2'].mean())\n",
    "data['outcome']=data['outcome'].fillna(data['outcome'].min())\n"
   ]
  },
  {
   "cell_type": "code",
   "execution_count": 10,
   "id": "838c7808",
   "metadata": {},
   "outputs": [
    {
     "data": {
      "text/plain": [
       "heart rate                  0\n",
       "Pulse                       0\n",
       "temperature                 0\n",
       "Systolic blood pressure     0\n",
       "Diastolic blood pressure    0\n",
       "Respiratory rate            0\n",
       "SP O2                       0\n",
       "PH                          0\n",
       "PCO2                        0\n",
       "outcome                     0\n",
       "dtype: int64"
      ]
     },
     "execution_count": 10,
     "metadata": {},
     "output_type": "execute_result"
    }
   ],
   "source": [
    "data.isnull().sum()"
   ]
  },
  {
   "cell_type": "code",
   "execution_count": 11,
   "id": "261bce96",
   "metadata": {},
   "outputs": [],
   "source": [
    "X=data.drop('outcome',axis=1)\n",
    "Y=data['outcome']"
   ]
  },
  {
   "cell_type": "code",
   "execution_count": 12,
   "id": "3a3be1b5",
   "metadata": {},
   "outputs": [
    {
     "data": {
      "text/html": [
       "<div>\n",
       "<style scoped>\n",
       "    .dataframe tbody tr th:only-of-type {\n",
       "        vertical-align: middle;\n",
       "    }\n",
       "\n",
       "    .dataframe tbody tr th {\n",
       "        vertical-align: top;\n",
       "    }\n",
       "\n",
       "    .dataframe thead th {\n",
       "        text-align: right;\n",
       "    }\n",
       "</style>\n",
       "<table border=\"1\" class=\"dataframe\">\n",
       "  <thead>\n",
       "    <tr style=\"text-align: right;\">\n",
       "      <th></th>\n",
       "      <th>heart rate</th>\n",
       "      <th>Pulse</th>\n",
       "      <th>temperature</th>\n",
       "      <th>Systolic blood pressure</th>\n",
       "      <th>Diastolic blood pressure</th>\n",
       "      <th>Respiratory rate</th>\n",
       "      <th>SP O2</th>\n",
       "      <th>PH</th>\n",
       "      <th>PCO2</th>\n",
       "    </tr>\n",
       "  </thead>\n",
       "  <tbody>\n",
       "    <tr>\n",
       "      <th>0</th>\n",
       "      <td>68.837838</td>\n",
       "      <td>2767.000000</td>\n",
       "      <td>36.714286</td>\n",
       "      <td>155.866667</td>\n",
       "      <td>68.333333</td>\n",
       "      <td>16.621622</td>\n",
       "      <td>98.394737</td>\n",
       "      <td>7.230000</td>\n",
       "      <td>40.000000</td>\n",
       "    </tr>\n",
       "    <tr>\n",
       "      <th>1</th>\n",
       "      <td>101.370370</td>\n",
       "      <td>1018.000000</td>\n",
       "      <td>36.682540</td>\n",
       "      <td>140.000000</td>\n",
       "      <td>65.000000</td>\n",
       "      <td>20.851852</td>\n",
       "      <td>96.923077</td>\n",
       "      <td>7.225000</td>\n",
       "      <td>78.000000</td>\n",
       "    </tr>\n",
       "    <tr>\n",
       "      <th>2</th>\n",
       "      <td>72.318182</td>\n",
       "      <td>1475.000000</td>\n",
       "      <td>36.453704</td>\n",
       "      <td>135.333333</td>\n",
       "      <td>61.375000</td>\n",
       "      <td>23.640000</td>\n",
       "      <td>95.291667</td>\n",
       "      <td>7.268000</td>\n",
       "      <td>71.500000</td>\n",
       "    </tr>\n",
       "    <tr>\n",
       "      <th>3</th>\n",
       "      <td>94.500000</td>\n",
       "      <td>1769.000000</td>\n",
       "      <td>36.287037</td>\n",
       "      <td>126.400000</td>\n",
       "      <td>73.200000</td>\n",
       "      <td>21.857143</td>\n",
       "      <td>93.846154</td>\n",
       "      <td>7.370000</td>\n",
       "      <td>75.000000</td>\n",
       "    </tr>\n",
       "    <tr>\n",
       "      <th>4</th>\n",
       "      <td>67.920000</td>\n",
       "      <td>1691.000000</td>\n",
       "      <td>36.761905</td>\n",
       "      <td>156.560000</td>\n",
       "      <td>58.120000</td>\n",
       "      <td>21.360000</td>\n",
       "      <td>99.280000</td>\n",
       "      <td>7.250000</td>\n",
       "      <td>50.000000</td>\n",
       "    </tr>\n",
       "    <tr>\n",
       "      <th>...</th>\n",
       "      <td>...</td>\n",
       "      <td>...</td>\n",
       "      <td>...</td>\n",
       "      <td>...</td>\n",
       "      <td>...</td>\n",
       "      <td>...</td>\n",
       "      <td>...</td>\n",
       "      <td>...</td>\n",
       "      <td>...</td>\n",
       "    </tr>\n",
       "    <tr>\n",
       "      <th>1172</th>\n",
       "      <td>100.125000</td>\n",
       "      <td>2766.737179</td>\n",
       "      <td>37.055556</td>\n",
       "      <td>142.545455</td>\n",
       "      <td>69.681818</td>\n",
       "      <td>24.500000</td>\n",
       "      <td>94.130435</td>\n",
       "      <td>7.378532</td>\n",
       "      <td>45.535382</td>\n",
       "    </tr>\n",
       "    <tr>\n",
       "      <th>1173</th>\n",
       "      <td>114.640000</td>\n",
       "      <td>2766.737179</td>\n",
       "      <td>35.972222</td>\n",
       "      <td>101.222222</td>\n",
       "      <td>51.888889</td>\n",
       "      <td>18.958333</td>\n",
       "      <td>93.526316</td>\n",
       "      <td>7.378532</td>\n",
       "      <td>45.535382</td>\n",
       "    </tr>\n",
       "    <tr>\n",
       "      <th>1174</th>\n",
       "      <td>52.720000</td>\n",
       "      <td>2766.737179</td>\n",
       "      <td>36.777778</td>\n",
       "      <td>137.791667</td>\n",
       "      <td>40.958333</td>\n",
       "      <td>18.680000</td>\n",
       "      <td>98.800000</td>\n",
       "      <td>7.378532</td>\n",
       "      <td>45.535382</td>\n",
       "    </tr>\n",
       "    <tr>\n",
       "      <th>1175</th>\n",
       "      <td>93.400000</td>\n",
       "      <td>2766.737179</td>\n",
       "      <td>36.422222</td>\n",
       "      <td>94.416667</td>\n",
       "      <td>62.458333</td>\n",
       "      <td>22.040000</td>\n",
       "      <td>99.560000</td>\n",
       "      <td>7.378532</td>\n",
       "      <td>45.535382</td>\n",
       "    </tr>\n",
       "    <tr>\n",
       "      <th>1176</th>\n",
       "      <td>67.289855</td>\n",
       "      <td>2766.737179</td>\n",
       "      <td>37.716667</td>\n",
       "      <td>131.523077</td>\n",
       "      <td>72.276923</td>\n",
       "      <td>23.464789</td>\n",
       "      <td>99.652174</td>\n",
       "      <td>7.378532</td>\n",
       "      <td>45.535382</td>\n",
       "    </tr>\n",
       "  </tbody>\n",
       "</table>\n",
       "<p>1177 rows × 9 columns</p>\n",
       "</div>"
      ],
      "text/plain": [
       "      heart rate        Pulse  temperature  Systolic blood pressure  \\\n",
       "0      68.837838  2767.000000    36.714286               155.866667   \n",
       "1     101.370370  1018.000000    36.682540               140.000000   \n",
       "2      72.318182  1475.000000    36.453704               135.333333   \n",
       "3      94.500000  1769.000000    36.287037               126.400000   \n",
       "4      67.920000  1691.000000    36.761905               156.560000   \n",
       "...          ...          ...          ...                      ...   \n",
       "1172  100.125000  2766.737179    37.055556               142.545455   \n",
       "1173  114.640000  2766.737179    35.972222               101.222222   \n",
       "1174   52.720000  2766.737179    36.777778               137.791667   \n",
       "1175   93.400000  2766.737179    36.422222                94.416667   \n",
       "1176   67.289855  2766.737179    37.716667               131.523077   \n",
       "\n",
       "      Diastolic blood pressure  Respiratory rate      SP O2        PH  \\\n",
       "0                    68.333333         16.621622  98.394737  7.230000   \n",
       "1                    65.000000         20.851852  96.923077  7.225000   \n",
       "2                    61.375000         23.640000  95.291667  7.268000   \n",
       "3                    73.200000         21.857143  93.846154  7.370000   \n",
       "4                    58.120000         21.360000  99.280000  7.250000   \n",
       "...                        ...               ...        ...       ...   \n",
       "1172                 69.681818         24.500000  94.130435  7.378532   \n",
       "1173                 51.888889         18.958333  93.526316  7.378532   \n",
       "1174                 40.958333         18.680000  98.800000  7.378532   \n",
       "1175                 62.458333         22.040000  99.560000  7.378532   \n",
       "1176                 72.276923         23.464789  99.652174  7.378532   \n",
       "\n",
       "           PCO2  \n",
       "0     40.000000  \n",
       "1     78.000000  \n",
       "2     71.500000  \n",
       "3     75.000000  \n",
       "4     50.000000  \n",
       "...         ...  \n",
       "1172  45.535382  \n",
       "1173  45.535382  \n",
       "1174  45.535382  \n",
       "1175  45.535382  \n",
       "1176  45.535382  \n",
       "\n",
       "[1177 rows x 9 columns]"
      ]
     },
     "execution_count": 12,
     "metadata": {},
     "output_type": "execute_result"
    }
   ],
   "source": [
    "X"
   ]
  },
  {
   "cell_type": "code",
   "execution_count": 13,
   "id": "1caaefff",
   "metadata": {},
   "outputs": [],
   "source": [
    "from sklearn.model_selection import train_test_split   #to split array or data in train and test part\n",
    "X_train,X_test,Y_train,Y_test=train_test_split(X,Y,test_size=0.2,random_state=42)"
   ]
  },
  {
   "cell_type": "code",
   "execution_count": 14,
   "id": "9704bc2c",
   "metadata": {},
   "outputs": [],
   "source": [
    "#to create pipeline output of one step as input in nxt step , diff classificatn models\n",
    "#from sklearn import preprocessing\n",
    "from sklearn.preprocessing import StandardScaler# It standardizes features by subtracting the mean value from the feature and then dividing the result by feature standard deviation.i.e\n",
    "#values differ in range or are in different units.\n",
    "from sklearn.linear_model import LogisticRegression\n",
    "from sklearn.neighbors import KNeighborsClassifier\n",
    "#grouping of items eclidean distance column in table assume k=3\n",
    "from sklearn.svm import SVC\n",
    "#sets plane between two categories so that dist between pts of both categories is max\n",
    "from sklearn.tree import DecisionTreeClassifier\n",
    "#classes may not be seperable by a linear line , it decides line by fact that try to maximizes inf ogain we want pure node, calculates entroy\n",
    "#info gain entropy of prent - entropy of child so higher info gain is favoured and model compares every possible\n",
    "#to max info gain splits recursively to \n",
    "from sklearn.ensemble import RandomForestClassifier\n",
    "#better than decisn tree \n",
    "from sklearn.ensemble import GradientBoostingClassifier\n",
    "\n",
    "from sklearn.pipeline import Pipeline\n"
   ]
  },
  {
   "cell_type": "code",
   "execution_count": 15,
   "id": "92c5e606",
   "metadata": {},
   "outputs": [],
   "source": [
    "#lets creaate machlinearn pipleine\n",
    "pipeline_lr=Pipeline([('scalar1',StandardScaler()),('lr_classifier',LogisticRegression())])\n",
    "pipeline_knn=Pipeline([('scalar2',StandardScaler()),('knn_classifier',KNeighborsClassifier())])\n",
    "pipeline_svc=Pipeline([('scalar3',StandardScaler()),('svc_classifier',SVC())])\n",
    "pipeline_dt=Pipeline([('dt_classifier',DecisionTreeClassifier())])\n",
    "pipeline_rf=Pipeline([('rf_classifier',RandomForestClassifier(max_depth=5))])\n",
    "pipeline_gbc=Pipeline([('gbc_classifier',GradientBoostingClassifier())])"
   ]
  },
  {
   "cell_type": "code",
   "execution_count": 16,
   "id": "3a7e1634",
   "metadata": {},
   "outputs": [],
   "source": [
    "#list for pipelines\n",
    "pipelines=[pipeline_lr,pipeline_knn,pipeline_svc,pipeline_dt,pipeline_rf,pipeline_gbc]"
   ]
  },
  {
   "cell_type": "code",
   "execution_count": 17,
   "id": "9e1ddacf",
   "metadata": {},
   "outputs": [
    {
     "data": {
      "text/plain": [
       "[Pipeline(steps=[('scalar1', StandardScaler()),\n",
       "                 ('lr_classifier', LogisticRegression())]),\n",
       " Pipeline(steps=[('scalar2', StandardScaler()),\n",
       "                 ('knn_classifier', KNeighborsClassifier())]),\n",
       " Pipeline(steps=[('scalar3', StandardScaler()), ('svc_classifier', SVC())]),\n",
       " Pipeline(steps=[('dt_classifier', DecisionTreeClassifier())]),\n",
       " Pipeline(steps=[('rf_classifier', RandomForestClassifier(max_depth=5))]),\n",
       " Pipeline(steps=[('gbc_classifier', GradientBoostingClassifier())])]"
      ]
     },
     "execution_count": 17,
     "metadata": {},
     "output_type": "execute_result"
    }
   ],
   "source": [
    "pipelines"
   ]
  },
  {
   "cell_type": "code",
   "execution_count": 18,
   "id": "17173f96",
   "metadata": {},
   "outputs": [],
   "source": [
    "#train pipelines\n",
    "for pipe in pipelines:\n",
    "    pipe.fit(X_train,Y_train)\n",
    "    "
   ]
  },
  {
   "cell_type": "code",
   "execution_count": 19,
   "id": "49aeef41",
   "metadata": {},
   "outputs": [],
   "source": [
    "pipe_dict={0:'LR',1:'KNN',2:'SVC',3:'DT',4:'RF',5:'GBC'}"
   ]
  },
  {
   "cell_type": "markdown",
   "id": "8773cd99",
   "metadata": {},
   "source": [
    "# pipe_dict \n",
    "Logisticregression,KNeighborsClassifier,SVC,DecisionTreeClassifier,RandomForestClassifier,GradientBoostingClassifier"
   ]
  },
  {
   "cell_type": "code",
   "execution_count": 20,
   "id": "f32efd36",
   "metadata": {},
   "outputs": [
    {
     "name": "stdout",
     "output_type": "stream",
     "text": [
      "LRTest Accuracy:84.7457627118644\n",
      "KNNTest Accuracy:83.47457627118644\n",
      "SVCTest Accuracy:83.89830508474576\n",
      "DTTest Accuracy:72.45762711864407\n",
      "RFTest Accuracy:83.47457627118644\n",
      "GBCTest Accuracy:83.47457627118644\n"
     ]
    }
   ],
   "source": [
    "for i,model in enumerate(pipelines):\n",
    "    print(\"{}Test Accuracy:{}\".format(pipe_dict[i],model.score(X_test,Y_test)*100))"
   ]
  },
  {
   "cell_type": "code",
   "execution_count": 21,
   "id": "b41752ed",
   "metadata": {},
   "outputs": [],
   "source": [
    "from sklearn.ensemble import RandomForestClassifier"
   ]
  },
  {
   "cell_type": "code",
   "execution_count": 22,
   "id": "79f76f18",
   "metadata": {},
   "outputs": [],
   "source": [
    "X=data.drop('outcome',axis=1)\n",
    "Y=data['outcome']"
   ]
  },
  {
   "cell_type": "code",
   "execution_count": 23,
   "id": "eeb7c44b",
   "metadata": {},
   "outputs": [],
   "source": [
    "rf=RandomForestClassifier()"
   ]
  },
  {
   "cell_type": "code",
   "execution_count": 24,
   "id": "dd5bf30d",
   "metadata": {},
   "outputs": [
    {
     "data": {
      "text/html": [
       "<style>#sk-container-id-1 {color: black;background-color: white;}#sk-container-id-1 pre{padding: 0;}#sk-container-id-1 div.sk-toggleable {background-color: white;}#sk-container-id-1 label.sk-toggleable__label {cursor: pointer;display: block;width: 100%;margin-bottom: 0;padding: 0.3em;box-sizing: border-box;text-align: center;}#sk-container-id-1 label.sk-toggleable__label-arrow:before {content: \"▸\";float: left;margin-right: 0.25em;color: #696969;}#sk-container-id-1 label.sk-toggleable__label-arrow:hover:before {color: black;}#sk-container-id-1 div.sk-estimator:hover label.sk-toggleable__label-arrow:before {color: black;}#sk-container-id-1 div.sk-toggleable__content {max-height: 0;max-width: 0;overflow: hidden;text-align: left;background-color: #f0f8ff;}#sk-container-id-1 div.sk-toggleable__content pre {margin: 0.2em;color: black;border-radius: 0.25em;background-color: #f0f8ff;}#sk-container-id-1 input.sk-toggleable__control:checked~div.sk-toggleable__content {max-height: 200px;max-width: 100%;overflow: auto;}#sk-container-id-1 input.sk-toggleable__control:checked~label.sk-toggleable__label-arrow:before {content: \"▾\";}#sk-container-id-1 div.sk-estimator input.sk-toggleable__control:checked~label.sk-toggleable__label {background-color: #d4ebff;}#sk-container-id-1 div.sk-label input.sk-toggleable__control:checked~label.sk-toggleable__label {background-color: #d4ebff;}#sk-container-id-1 input.sk-hidden--visually {border: 0;clip: rect(1px 1px 1px 1px);clip: rect(1px, 1px, 1px, 1px);height: 1px;margin: -1px;overflow: hidden;padding: 0;position: absolute;width: 1px;}#sk-container-id-1 div.sk-estimator {font-family: monospace;background-color: #f0f8ff;border: 1px dotted black;border-radius: 0.25em;box-sizing: border-box;margin-bottom: 0.5em;}#sk-container-id-1 div.sk-estimator:hover {background-color: #d4ebff;}#sk-container-id-1 div.sk-parallel-item::after {content: \"\";width: 100%;border-bottom: 1px solid gray;flex-grow: 1;}#sk-container-id-1 div.sk-label:hover label.sk-toggleable__label {background-color: #d4ebff;}#sk-container-id-1 div.sk-serial::before {content: \"\";position: absolute;border-left: 1px solid gray;box-sizing: border-box;top: 0;bottom: 0;left: 50%;z-index: 0;}#sk-container-id-1 div.sk-serial {display: flex;flex-direction: column;align-items: center;background-color: white;padding-right: 0.2em;padding-left: 0.2em;position: relative;}#sk-container-id-1 div.sk-item {position: relative;z-index: 1;}#sk-container-id-1 div.sk-parallel {display: flex;align-items: stretch;justify-content: center;background-color: white;position: relative;}#sk-container-id-1 div.sk-item::before, #sk-container-id-1 div.sk-parallel-item::before {content: \"\";position: absolute;border-left: 1px solid gray;box-sizing: border-box;top: 0;bottom: 0;left: 50%;z-index: -1;}#sk-container-id-1 div.sk-parallel-item {display: flex;flex-direction: column;z-index: 1;position: relative;background-color: white;}#sk-container-id-1 div.sk-parallel-item:first-child::after {align-self: flex-end;width: 50%;}#sk-container-id-1 div.sk-parallel-item:last-child::after {align-self: flex-start;width: 50%;}#sk-container-id-1 div.sk-parallel-item:only-child::after {width: 0;}#sk-container-id-1 div.sk-dashed-wrapped {border: 1px dashed gray;margin: 0 0.4em 0.5em 0.4em;box-sizing: border-box;padding-bottom: 0.4em;background-color: white;}#sk-container-id-1 div.sk-label label {font-family: monospace;font-weight: bold;display: inline-block;line-height: 1.2em;}#sk-container-id-1 div.sk-label-container {text-align: center;}#sk-container-id-1 div.sk-container {/* jupyter's `normalize.less` sets `[hidden] { display: none; }` but bootstrap.min.css set `[hidden] { display: none !important; }` so we also need the `!important` here to be able to override the default hidden behavior on the sphinx rendered scikit-learn.org. See: https://github.com/scikit-learn/scikit-learn/issues/21755 */display: inline-block !important;position: relative;}#sk-container-id-1 div.sk-text-repr-fallback {display: none;}</style><div id=\"sk-container-id-1\" class=\"sk-top-container\"><div class=\"sk-text-repr-fallback\"><pre>RandomForestClassifier()</pre><b>In a Jupyter environment, please rerun this cell to show the HTML representation or trust the notebook. <br />On GitHub, the HTML representation is unable to render, please try loading this page with nbviewer.org.</b></div><div class=\"sk-container\" hidden><div class=\"sk-item\"><div class=\"sk-estimator sk-toggleable\"><input class=\"sk-toggleable__control sk-hidden--visually\" id=\"sk-estimator-id-1\" type=\"checkbox\" checked><label for=\"sk-estimator-id-1\" class=\"sk-toggleable__label sk-toggleable__label-arrow\">RandomForestClassifier</label><div class=\"sk-toggleable__content\"><pre>RandomForestClassifier()</pre></div></div></div></div></div>"
      ],
      "text/plain": [
       "RandomForestClassifier()"
      ]
     },
     "execution_count": 24,
     "metadata": {},
     "output_type": "execute_result"
    }
   ],
   "source": [
    "rf.fit(X,Y)"
   ]
  },
  {
   "cell_type": "code",
   "execution_count": 25,
   "id": "1142c566",
   "metadata": {},
   "outputs": [
    {
     "data": {
      "text/plain": [
       "Index(['heart rate', 'Pulse', 'temperature', 'Systolic blood pressure',\n",
       "       'Diastolic blood pressure', 'Respiratory rate', 'SP O2', 'PH', 'PCO2',\n",
       "       'outcome'],\n",
       "      dtype='object')"
      ]
     },
     "execution_count": 25,
     "metadata": {},
     "output_type": "execute_result"
    }
   ],
   "source": [
    "data.columns"
   ]
  },
  {
   "cell_type": "markdown",
   "id": "ea824308",
   "metadata": {},
   "source": [
    "# Joblib"
   ]
  },
  {
   "cell_type": "code",
   "execution_count": 26,
   "id": "cea00fae",
   "metadata": {},
   "outputs": [
    {
     "data": {
      "text/html": [
       "<style>#sk-container-id-2 {color: black;background-color: white;}#sk-container-id-2 pre{padding: 0;}#sk-container-id-2 div.sk-toggleable {background-color: white;}#sk-container-id-2 label.sk-toggleable__label {cursor: pointer;display: block;width: 100%;margin-bottom: 0;padding: 0.3em;box-sizing: border-box;text-align: center;}#sk-container-id-2 label.sk-toggleable__label-arrow:before {content: \"▸\";float: left;margin-right: 0.25em;color: #696969;}#sk-container-id-2 label.sk-toggleable__label-arrow:hover:before {color: black;}#sk-container-id-2 div.sk-estimator:hover label.sk-toggleable__label-arrow:before {color: black;}#sk-container-id-2 div.sk-toggleable__content {max-height: 0;max-width: 0;overflow: hidden;text-align: left;background-color: #f0f8ff;}#sk-container-id-2 div.sk-toggleable__content pre {margin: 0.2em;color: black;border-radius: 0.25em;background-color: #f0f8ff;}#sk-container-id-2 input.sk-toggleable__control:checked~div.sk-toggleable__content {max-height: 200px;max-width: 100%;overflow: auto;}#sk-container-id-2 input.sk-toggleable__control:checked~label.sk-toggleable__label-arrow:before {content: \"▾\";}#sk-container-id-2 div.sk-estimator input.sk-toggleable__control:checked~label.sk-toggleable__label {background-color: #d4ebff;}#sk-container-id-2 div.sk-label input.sk-toggleable__control:checked~label.sk-toggleable__label {background-color: #d4ebff;}#sk-container-id-2 input.sk-hidden--visually {border: 0;clip: rect(1px 1px 1px 1px);clip: rect(1px, 1px, 1px, 1px);height: 1px;margin: -1px;overflow: hidden;padding: 0;position: absolute;width: 1px;}#sk-container-id-2 div.sk-estimator {font-family: monospace;background-color: #f0f8ff;border: 1px dotted black;border-radius: 0.25em;box-sizing: border-box;margin-bottom: 0.5em;}#sk-container-id-2 div.sk-estimator:hover {background-color: #d4ebff;}#sk-container-id-2 div.sk-parallel-item::after {content: \"\";width: 100%;border-bottom: 1px solid gray;flex-grow: 1;}#sk-container-id-2 div.sk-label:hover label.sk-toggleable__label {background-color: #d4ebff;}#sk-container-id-2 div.sk-serial::before {content: \"\";position: absolute;border-left: 1px solid gray;box-sizing: border-box;top: 0;bottom: 0;left: 50%;z-index: 0;}#sk-container-id-2 div.sk-serial {display: flex;flex-direction: column;align-items: center;background-color: white;padding-right: 0.2em;padding-left: 0.2em;position: relative;}#sk-container-id-2 div.sk-item {position: relative;z-index: 1;}#sk-container-id-2 div.sk-parallel {display: flex;align-items: stretch;justify-content: center;background-color: white;position: relative;}#sk-container-id-2 div.sk-item::before, #sk-container-id-2 div.sk-parallel-item::before {content: \"\";position: absolute;border-left: 1px solid gray;box-sizing: border-box;top: 0;bottom: 0;left: 50%;z-index: -1;}#sk-container-id-2 div.sk-parallel-item {display: flex;flex-direction: column;z-index: 1;position: relative;background-color: white;}#sk-container-id-2 div.sk-parallel-item:first-child::after {align-self: flex-end;width: 50%;}#sk-container-id-2 div.sk-parallel-item:last-child::after {align-self: flex-start;width: 50%;}#sk-container-id-2 div.sk-parallel-item:only-child::after {width: 0;}#sk-container-id-2 div.sk-dashed-wrapped {border: 1px dashed gray;margin: 0 0.4em 0.5em 0.4em;box-sizing: border-box;padding-bottom: 0.4em;background-color: white;}#sk-container-id-2 div.sk-label label {font-family: monospace;font-weight: bold;display: inline-block;line-height: 1.2em;}#sk-container-id-2 div.sk-label-container {text-align: center;}#sk-container-id-2 div.sk-container {/* jupyter's `normalize.less` sets `[hidden] { display: none; }` but bootstrap.min.css set `[hidden] { display: none !important; }` so we also need the `!important` here to be able to override the default hidden behavior on the sphinx rendered scikit-learn.org. See: https://github.com/scikit-learn/scikit-learn/issues/21755 */display: inline-block !important;position: relative;}#sk-container-id-2 div.sk-text-repr-fallback {display: none;}</style><div id=\"sk-container-id-2\" class=\"sk-top-container\"><div class=\"sk-text-repr-fallback\"><pre>RandomForestClassifier()</pre><b>In a Jupyter environment, please rerun this cell to show the HTML representation or trust the notebook. <br />On GitHub, the HTML representation is unable to render, please try loading this page with nbviewer.org.</b></div><div class=\"sk-container\" hidden><div class=\"sk-item\"><div class=\"sk-estimator sk-toggleable\"><input class=\"sk-toggleable__control sk-hidden--visually\" id=\"sk-estimator-id-2\" type=\"checkbox\" checked><label for=\"sk-estimator-id-2\" class=\"sk-toggleable__label sk-toggleable__label-arrow\">RandomForestClassifier</label><div class=\"sk-toggleable__content\"><pre>RandomForestClassifier()</pre></div></div></div></div></div>"
      ],
      "text/plain": [
       "RandomForestClassifier()"
      ]
     },
     "execution_count": 26,
     "metadata": {},
     "output_type": "execute_result"
    }
   ],
   "source": [
    "import joblib\n",
    "joblib.dump(rf,'Patient_Monitoring')\n",
    "model=joblib.load('Patient_Monitoring')\n",
    "model\n",
    "\n"
   ]
  },
  {
   "cell_type": "markdown",
   "id": "3c3c1d8d",
   "metadata": {},
   "source": [
    "# GUI"
   ]
  },
  {
   "cell_type": "code",
   "execution_count": 143,
   "id": "23d77b9a",
   "metadata": {},
   "outputs": [],
   "source": [
    "from tkinter import *\n",
    "import customtkinter\n",
    "screen=Tk()\n",
    "screen.geometry(\"650x600\")\n",
    "screen.title(\"Dummy Software\")\n",
    "img= PhotoImage(file='bg.png',master=screen)\n",
    "img_label=Label(screen,image=img)\n",
    "\n",
    "#define the position of the image\n",
    "img_label.place(x=0, y=46)\n",
    "\n",
    "def show_predict():\n",
    "    p1=float(e1.get())\n",
    "    p2=float(e2.get())\n",
    "    p3=float(e3.get())\n",
    "    p4=float(e4.get())\n",
    "    p5=float(e5.get())\n",
    "    p6=float(e6.get())\n",
    "    p7=float(e7.get())\n",
    "    p8=float(e8.get())\n",
    "    p9=float(e9.get())\n",
    "    \n",
    "    \n",
    "    model=joblib.load('Patient_Monitoring')\n",
    "    result=model.predict([[p1,p2,p3,p4,p5,p6,p7,p8,p9]])\n",
    "    if(p==1):\n",
    "        \n",
    "        print(\"Patient requires immediate attention.Alert message forwared.\")\n",
    "        from twilio.rest import Client\n",
    "        SID='ACffcfd99dd4f3ce5db5853025ea8f5417'\n",
    "        Auth_Token='154f133a657fc16dd934fe0ce9c562a7'\n",
    "        c1=Client(SID,Auth_Token)\n",
    "        if(p5>80):\n",
    "            c1.messages.create(body='Ward Boy immediately report at bed no. x. High Blood Pressure!!!',from_='+18058192317',to='+919911589022')\n",
    "            c1.messages.create(body='Dr. Asthana plz see Patient no. x.High Blood Pressure!!! ',from_='+18058192317',to='+919818490813')\n",
    "        if(p7<95):\n",
    "            c1.messages.create(body='Ward Boy immediately report at bed no. x.Decreased Oxygen Saturation!!!',from_='+18058192317',to='+919911589022')\n",
    "            c1.messages.create(body='Dr. Asthana plz see Patient no. x..Decreased Oxygen Saturation!!! ',from_='+18058192317',to='+919818490813')   \n",
    "        if(p8<7.35 or p8>7.45):\n",
    "            c1.messages.create(body='Ward Boy immediately report at bed no. x. PH change. Rush To ICU!!',from_='+18058192317',to='+919911589022')\n",
    "            c1.messages.create(body='Dr. Asthana plz see Patient no. x.PH change. Rush To ICU!! ',from_='+18058192317',to='+919818490813')\n",
    "        \n",
    "        else:\n",
    "            print(\"Patient sounds fine.\") \n",
    "\n",
    "    ans=Label(text=\"Status Is : \",bg=\"light blue\",fg=\"black\").place(x=230,y=400)\n",
    "    asn2=Label(text=result,bg=\"black\",fg=\"white\").place(x=230,y=430)\n",
    "    \n",
    "\n",
    "\n",
    "heading=Label(text=\"HeAlgo , A Buddy Next To Your Bed..\",bg=\"sky blue\",fg=\"black\",height=\"2\",width=\"500\",font=('Cooper Black',18))\n",
    "heading.pack()\n",
    "\n",
    "\n",
    "hr=Label(text=\"Heart Rate\",font=('Times New Roman',15),bg='white',borderwidth=1,relief='solid')\n",
    "hr.place(x=10,y=80)\n",
    "pulse=Label(text=\"Pulse\",font=('Times New Roman',15),bg='white',borderwidth=1,relief='solid')\n",
    "pulse.place(x=10,y=130)\n",
    "temp=Label(text=\"Temperature\",font=('Times New Roman',15),bg='white',borderwidth=1,relief='solid')\n",
    "temp.place(x=10,y=180)\n",
    "sbp=Label(text=\"Systolic Blood Pressure\",font=('Times New Roman',15),bg='white',borderwidth=1,relief='solid')\n",
    "sbp.place(x=10,y=230)\n",
    "dbp=Label(text=\"Diastolic Blood pressure\",font=('Times New Roman',15),bg='white',borderwidth=1,relief='solid')\n",
    "dbp.place(x=10,y=280)\n",
    "rpr=Label(text=\"Respiratory Rate\",font=('Times New Roman',15),bg='white',borderwidth=1,relief='solid')\n",
    "rpr.place(x=10,y=330)\n",
    "Oxy=Label(text=\"SP O2\",font=('Times New Roman',15),bg='white',borderwidth=1,relief='solid')\n",
    "Oxy.place(x=10,y=380)\n",
    "ph=Label(text=\"PH\",font=('Times New Roman',15),bg='white',borderwidth=1,relief='solid')\n",
    "ph.place(x=10,y=430)\n",
    "pco2=Label(text=\"PCO2\",font=('Times New Roman',15),bg='white',borderwidth=1,relief='solid')\n",
    "pco2.place(x=10,y=480)\n",
    "\n",
    "\n",
    "e1=Entry(screen,borderwidth=3,relief='solid')\n",
    "e1.place(x=235,y=80)\n",
    "e2=Entry(screen,borderwidth=3,relief='solid')\n",
    "e2.place(x=235,y=130)\n",
    "e3=Entry(screen,borderwidth=3,relief='solid')\n",
    "e3.place(x=235,y=180)\n",
    "e4=Entry(screen,borderwidth=3,relief='solid')\n",
    "e4.place(x=235,y=230)\n",
    "e5=Entry(screen,borderwidth=3,relief='solid')\n",
    "e5.place(x=235,y=280)\n",
    "e6=Entry(screen,borderwidth=3,relief='solid')\n",
    "e6.place(x=235,y=330)\n",
    "e7=Entry(screen,borderwidth=3,relief='solid')\n",
    "e7.place(x=235,y=380)\n",
    "e8=Entry(screen,borderwidth=3,relief='solid')\n",
    "e8.place(x=235,y=430)\n",
    "e9=Entry(screen,borderwidth=3,relief='solid')\n",
    "e9.place(x=235,y=480)\n",
    "\n",
    "\n",
    "x=Button(screen,text=\"Predict Now..\",command=show_predict,font=('Cooper Black',15),bg='white',fg='black',cursor='hand2',borderwidth=3,relief='solid').place(x=150,y=540)\n",
    "\n",
    "screen.mainloop()\n"
   ]
  }
 ],
 "metadata": {
  "kernelspec": {
   "display_name": "Python 3 (ipykernel)",
   "language": "python",
   "name": "python3"
  },
  "language_info": {
   "codemirror_mode": {
    "name": "ipython",
    "version": 3
   },
   "file_extension": ".py",
   "mimetype": "text/x-python",
   "name": "python",
   "nbconvert_exporter": "python",
   "pygments_lexer": "ipython3",
   "version": "3.11.0"
  }
 },
 "nbformat": 4,
 "nbformat_minor": 5
}
